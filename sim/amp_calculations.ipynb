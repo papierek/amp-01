{
 "cells": [
  {
   "cell_type": "code",
   "execution_count": 2,
   "metadata": {
    "collapsed": true
   },
   "outputs": [],
   "source": [
    "#amp params\n",
    "speakers_impedance = 8 #ohms\n",
    "target_output_power = 40 # wats\n",
    "\n",
    "#LM3886 - consult with datasheet\n",
    "amp_voltage_drop = 4\n",
    "max_supply_voltage_pp = 84 #V |Vcc|+|Vee|\n",
    "safety_margin = 0.90 # 10 %\n",
    "passive_current = 0.085 # A\n",
    "\n",
    "#trafo regulation\n",
    "variation_in_main = 1.1 \n",
    "trafo_regulation = 1.06\n",
    "trafo_v_rms_out = 24\n",
    "trafo_v_peak_out = trafo_v_rms_out * 1.41 #V\n",
    "\n"
   ]
  },
  {
   "cell_type": "code",
   "execution_count": 3,
   "metadata": {},
   "outputs": [
    {
     "name": "stdout",
     "output_type": "stream",
     "text": [
      "Maximum output signal voltage:\t25.30V\n",
      "Required supply voltage:\t34.16V\n",
      "Trafo output peak voltage:\t33.84V\n",
      "Max allowed supply voltage:\t37.80V\n",
      "\n",
      " 25.022298456260714\n",
      "\n",
      "Max output power (Rout=8ohms):\t39W\n",
      "Required power per channel:\t73.91W\n",
      " --- with margin:\t110.87W\n",
      " --- total:\t\t221.74W\n",
      "\n",
      "### TRAFO PARMAS ###\n",
      "Out voltage:\t2*24.00\n",
      "VA rating:\t221.74\n"
     ]
    }
   ],
   "source": [
    "import math\n",
    "v_pk_output = math.sqrt(2*speakers_impedance*target_output_power)\n",
    "print(\"Maximum output signal voltage:\\t{0:.2f}V\".format(v_pk_output))\n",
    "required_voltage = (v_pk_output + amp_voltage_drop) * trafo_regulation * 1.1\n",
    "\n",
    "print(\"Required supply voltage:\\t{0:.2f}V\".format(required_voltage))\n",
    "print(\"Trafo output peak voltage:\\t{0:.2f}V\".format(trafo_v_peak_out))\n",
    "\n",
    "max_supply_voltage =(max_supply_voltage_pp/2) * safety_margin\n",
    "\n",
    "print(\"Max allowed supply voltage:\\t{0:.2f}V\".format(max_supply_voltage))\n",
    "if(max_supply_voltage < trafo_v_peak_out):\n",
    "    print(\"Trafo output voltage is to big!\")\n",
    "\n",
    "\n",
    "v = (trafo_v_peak_out/(trafo_regulation * variation_in_main) - amp_voltage_drop)\n",
    "print(\"\\n\",v)\n",
    "actual_power = (v*v)/speakers_impedance/2\n",
    "\n",
    "print(\"\\nMax output power (Rout={0}ohms):\\t{1:.0f}W\".format(speakers_impedance, actual_power))\n",
    "\n",
    "# Required trafo power cacilation\n",
    "\n",
    "out_current_load_max = v_pk_output/3.14/speakers_impedance\n",
    "out_current_total = passive_current + out_current_load_max\n",
    "\n",
    "p_supply = 2*trafo_v_peak_out * out_current_total\n",
    "\n",
    "print(\"Required power per channel:\\t{:.2f}W\".format(p_supply))\n",
    "p_sup_marg = p_supply*1.5\n",
    "print(\" --- with margin:\\t{:.2f}W\".format(p_sup_marg))\n",
    "va_ratings = p_sup_marg*2\n",
    "print(\" --- total:\\t\\t{:.2f}W\".format(va_ratings))\n",
    "\n",
    "print(\"\\n### TRAFO PARMAS ###\")\n",
    "print(\"Out voltage:\\t2*{0:.2f}\\nVA rating:\\t{1:.2f}\".format(trafo_v_rms_out, va_ratings))\n"
   ]
  },
  {
   "cell_type": "code",
   "execution_count": 7,
   "metadata": {},
   "outputs": [
    {
     "name": "stdout",
     "output_type": "stream",
     "text": [
      "0.316 0.44555999999999996 0.8911199999999999\n",
      "17.693436919295632\n",
      "Minimum gain required: 19.86\n"
     ]
    }
   ],
   "source": [
    "i_vol_rms = 0.316#V\n",
    "i_vol_a = 1.41 * 0.316\n",
    "v_in_max = 2*i_vol_a\n",
    "\n",
    "print(i_vol_rms,i_vol_a, i_vol_pp)\n",
    "\n",
    "v_out_max = math.sqrt(actual_power * speakers_impedance)\n",
    "print(v_out_max)\n",
    "\n",
    "min_gain = v_out_max/v_in_max\n",
    "\n",
    "print(\"Minimum gain required: {0:.2f}\".format(min_gain))\n",
    "\n",
    "\n",
    "\n",
    "\n"
   ]
  },
  {
   "cell_type": "code",
   "execution_count": null,
   "metadata": {
    "collapsed": true
   },
   "outputs": [],
   "source": [
    "## lets do some spice\n",
    "import numpy as no\n",
    "import matplotlib.pyplot as plt\n",
    "\n",
    "import PySpice.Logging.Logging as logging\n",
    "\n",
    "logger = logging.setup_logging()\n",
    "\n",
    "from PySpice.Netlist import Cicuit\n",
    "from PySpice.Unit.Units import kilo, micro\n",
    "\n",
    "cir = Circuit(\"Input filter\")\n",
    "cir.R('f', 'in', 'out', kilo(1))\n",
    "cir.C('f', 'out', cir.gnd, micro(1))\n",
    "cir.Sinusoidal(\"input\", 'in', cir.gnd, amplitude=1)\n",
    "\n",
    "\n",
    "\n",
    "\n",
    "\n",
    "\n"
   ]
  },
  {
   "cell_type": "code",
   "execution_count": null,
   "metadata": {
    "collapsed": true
   },
   "outputs": [],
   "source": []
  },
  {
   "cell_type": "code",
   "execution_count": null,
   "metadata": {
    "collapsed": true
   },
   "outputs": [],
   "source": []
  }
 ],
 "metadata": {
  "kernelspec": {
   "display_name": "Python 3",
   "language": "python",
   "name": "python3"
  },
  "language_info": {
   "codemirror_mode": {
    "name": "ipython",
    "version": 3
   },
   "file_extension": ".py",
   "mimetype": "text/x-python",
   "name": "python",
   "nbconvert_exporter": "python",
   "pygments_lexer": "ipython3",
   "version": "3.6.1"
  }
 },
 "nbformat": 4,
 "nbformat_minor": 2
}
